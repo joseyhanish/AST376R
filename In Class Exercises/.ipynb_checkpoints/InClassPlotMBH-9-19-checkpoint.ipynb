{
 "cells": [
  {
   "cell_type": "code",
   "execution_count": 1,
   "metadata": {
    "collapsed": true
   },
   "outputs": [],
   "source": [
    "import numpy as np\n",
    "import matplotlib.pyplot as plt\n",
    "%matplotlib inline\n",
    "import urllib"
   ]
  },
  {
   "cell_type": "code",
   "execution_count": 2,
   "metadata": {
    "collapsed": false
   },
   "outputs": [],
   "source": [
    "# Open the data, set the x & y values, plot the data\n",
    "try:\n",
    "    url_opener = urllib.URLopener()\n",
    "    url_opener.retrieve('http://www.as.utexas.edu/~gebhardt/a376f17/bhsig2.txt', 'bhsig2.txt')    \n",
    "except:\n",
    "    print 'Could not download file. Looking for file locally in this directory.'\n",
    "\n",
    "try:\n",
    "    data = np.loadtxt('bhsig2.txt')\n",
    "except:\n",
    "    print 'Could not open bhsig2.txt'\n",
    "    quit()\n",
    "\n",
    "mbh = data[:,1]\n",
    "sigmav = data[:,0]"
   ]
  },
  {
   "cell_type": "code",
   "execution_count": 3,
   "metadata": {
    "collapsed": false,
    "scrolled": false
   },
   "outputs": [
    {
     "data": {
      "image/png": "[encoded data removed]",
      "text/plain": [
       "<matplotlib.figure.Figure at 0x10ae6bb90>"
      ]
     },
     "metadata": {},
     "output_type": "display_data"
    },
    {
     "name": "stdout",
     "output_type": "stream",
     "text": [
      "17.6434203955\n"
     ]
    }
   ],
   "source": [
    "plt.figure(figsize=(10,10))\n",
    "plt.title('$M_{\\odot}$ vs $\\sigma_V$', size='x-large')\n",
    "plt.scatter(sigmav, mbh, s=0.5)\n",
    "plt.yscale('log')\n",
    "plt.xscale('log')\n",
    "plt.ylabel('$M_{\\odot}$', size='x-large')\n",
    "plt.xlabel('$\\sigma_V$', size='x-large')\n",
    "plt.xlim(sigmav.min(),sigmav.max())\n",
    "plt.ylim(mbh.min(),mbh.max())\n",
    "\n",
    "# Fit a line\n",
    "# Set params a,b by eye\n",
    "a = 5.7\n",
    "b = -5\n",
    "yt = 10**((a * np.log10(sigmav)) + b)\n",
    "plt.plot(sigmav, yt)\n",
    "plt.show()\n",
    "\n",
    "chi_squared = sum((np.log10(mbh)-np.log10(yt))**2)\n",
    "print(chi_squared)"
   ]
  },
  {
   "cell_type": "code",
   "execution_count": null,
   "metadata": {
    "collapsed": true
   },
   "outputs": [],
   "source": []
  },
  {
   "cell_type": "code",
   "execution_count": null,
   "metadata": {
    "collapsed": true
   },
   "outputs": [],
   "source": []
  }
 ],
 "metadata": {
  "kernelspec": {
   "display_name": "Python 2",
   "language": "python",
   "name": "python2"
  },
  "language_info": {
   "codemirror_mode": {
    "name": "ipython",
    "version": 2
   },
   "file_extension": ".py",
   "mimetype": "text/x-python",
   "name": "python",
   "nbconvert_exporter": "python",
   "pygments_lexer": "ipython2",
   "version": "2.7.13"
  }
 },
 "nbformat": 4,
 "nbformat_minor": 0
}
