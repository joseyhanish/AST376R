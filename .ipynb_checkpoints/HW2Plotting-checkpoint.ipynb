{
 "cells": [
  {
   "cell_type": "code",
   "execution_count": 20,
   "metadata": {
    "collapsed": true
   },
   "outputs": [],
   "source": [
    "import numpy as np\n",
    "from matplotlib import pyplot as plt\n",
    "%matplotlib inline\n",
    "\n",
    "from scipy.optimize import leastsq\n",
    "from scipy.optimize import curve_fit\n",
    "\n",
    "import os"
   ]
  },
  {
   "cell_type": "code",
   "execution_count": 26,
   "metadata": {
    "collapsed": false
   },
   "outputs": [
    {
     "data": {
      "image/png": "[encoded data removed]",
      "text/plain": [
       "<matplotlib.figure.Figure at 0x103aa1990>"
      ]
     },
     "metadata": {},
     "output_type": "display_data"
    }
   ],
   "source": [
    "if os.path.isfile('proximacentaurirv.txt'):\n",
    "    data = np.loadtxt('proximacentaurirv.txt')\n",
    "elif os.path.isfile('rv.txt'):\n",
    "    data = np.loadtxt('rv.txt')\n",
    "else:\n",
    "    raise RuntimeError('Cannot find data file')\n",
    "julian_date = data[:,0]\n",
    "radial_velocity = data[:,1]\n",
    "plt.scatter(julian_date,radial_velocity,s=0.6,color='blue')\n",
    "plt.xlabel('Julian Date')\n",
    "plt.ylabel('Radial Velocity (m/s)')\n",
    "plt.title('Proxima Centauri Radial Velocity over Time - Josey Hanish')\n",
    "plt.savefig('proxima_centauri_rv.pdf')\n",
    "plt.show()\n",
    "plt.close()"
   ]
  },
  {
   "cell_type": "code",
   "execution_count": 22,
   "metadata": {
    "collapsed": false
   },
   "outputs": [],
   "source": [
    "plt.scatter(julian_date, radial_velocity, s=0.6, color='blue', \n",
    "            label='original data')\n",
    "plt.xlabel('Julian Date')\n",
    "plt.ylabel('Radial Velocity (m/s)')\n",
    "plt.xlim((2457400.,2457490.))\n",
    "plt.title('Proxima Centauri Radial Velocity over Time - Josey Hanish')\n",
    "\n",
    "def my_sin(x, freq, amplitude, phase, offset, linslope):\n",
    "    return np.sin(x * freq + phase) * amplitude + offset \\\n",
    "        + linslope*(x-2457400.)\n",
    "\n",
    "xt = np.linspace(2457400.,2457490.,num=1000)\n",
    "# f = 2pi*(1/T)\n",
    "my_freq = 2*np.pi*(1/11.2)\n",
    "my_amp = 1.38\n",
    "my_phase = 14\n",
    "my_offset = 2\n",
    "my_linslope = -0.06\n",
    "\n",
    "yt = my_sin(xt, my_freq, my_amp, my_phase, my_offset, my_linslope)\n",
    "plt.plot(xt, yt, label='sin fit')\n",
    "plt.legend()\n",
    "plt.savefig('proxima_centauri_rv_fit.pdf')\n",
    "plt.show()\n",
    "plt.close()"
   ]
  },
  {
   "cell_type": "code",
   "execution_count": 23,
   "metadata": {
    "collapsed": false
   },
   "outputs": [
    {
     "name": "stdout",
     "output_type": "stream",
     "text": [
      "Optimal parameters not found: Number of calls to function has reached maxfev = 1000.\n"
     ]
    }
   ],
   "source": [
    "# # Here's some stuff I haven't made work yet\n",
    "# # Please don't grade this part :)\n",
    "\n",
    "# # https://stackoverflow.com/questions/16716302/how-do-i-fit-a-sine-curve-to-my-data-with-pylab-and-numpy\n",
    "# def my_sin(x, freq, amplitude, phase, offset):\n",
    "#     return np.sin(x * freq + phase) * amplitude + offset\n",
    "\n",
    "# guess_freq = 2*np.pi*(1/11.2)\n",
    "# guess_amplitude = 1.38\n",
    "# guess_phase = 14\n",
    "# # guess_offset = np.mean(radial_velocity)\n",
    "# guess_offset = 2\n",
    "\n",
    "# p0=[guess_freq, guess_amplitude,\n",
    "#     guess_phase, guess_offset]\n",
    "\n",
    "# try:\n",
    "#     fit = curve_fit(my_sin, julian_date, radial_velocity, p0=p0)\n",
    "#     print fit[0]\n",
    "\n",
    "#     xt = np.linspace(2457400.,2457490.,num=1000)\n",
    "\n",
    "#     data_fit = []\n",
    "#     for my_date in xt:\n",
    "#         data_fit.append(my_sin(my_date, *fit[0]))\n",
    "\n",
    "#     plt.figure()\n",
    "#     plt.plot(xt,data_fit)\n",
    "#     # plt.xlim((2457400.,2457490.))\n",
    "#     plt.show()\n",
    "#     plt.close()\n",
    "    \n",
    "# except Exception as e:\n",
    "#     print e\n"
   ]
  },
  {
   "cell_type": "code",
   "execution_count": null,
   "metadata": {
    "collapsed": true
   },
   "outputs": [],
   "source": []
  }
 ],
 "metadata": {
  "kernelspec": {
   "display_name": "Python 2",
   "language": "python",
   "name": "python2"
  },
  "language_info": {
   "codemirror_mode": {
    "name": "ipython",
    "version": 2
   },
   "file_extension": ".py",
   "mimetype": "text/x-python",
   "name": "python",
   "nbconvert_exporter": "python",
   "pygments_lexer": "ipython2",
   "version": "2.7.13"
  }
 },
 "nbformat": 4,
 "nbformat_minor": 0
}
